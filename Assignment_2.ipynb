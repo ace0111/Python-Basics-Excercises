{
 "cells": [
  {
   "cell_type": "code",
   "execution_count": null,
   "id": "fa166841",
   "metadata": {},
   "outputs": [],
   "source": [
    "1.What are the two values of the Boolean data type? How do you write them?"
   ]
  },
  {
   "cell_type": "code",
   "execution_count": null,
   "id": "ca87429c",
   "metadata": {},
   "outputs": [],
   "source": [
    "the two values of the Boolean data type are True and False. They are written exactly as shown, with the first letter capitalized."
   ]
  },
  {
   "cell_type": "code",
   "execution_count": null,
   "id": "67cd59af",
   "metadata": {},
   "outputs": [],
   "source": [
    "2.What are the three different types of Boolean operators?"
   ]
  },
  {
   "cell_type": "code",
   "execution_count": null,
   "id": "72ed1bb8",
   "metadata": {},
   "outputs": [],
   "source": [
    "In Python, there are three different types of Boolean operators:\n",
    "\n",
    "1.and: The and operator returns True if both operands are true, and False otherwise. For example, True and False would return False, while True and True would return True.\n",
    "\n",
    "2.or: The or operator returns True if at least one operand is true, and False otherwise. For example, True or False would return True, while False or False would return False.\n",
    "\n",
    "3.not: The not operator returns the opposite Boolean value of its operand. For example, not True would return False, while not False would return True.\n",
    "\n",
    "These operators can be used to build complex Boolean expressions by combining simpler expressions."
   ]
  },
  {
   "cell_type": "code",
   "execution_count": null,
   "id": "7a678096",
   "metadata": {},
   "outputs": [],
   "source": [
    "3.Make a list of each Boolean operator's truth tables (i.e. every possible combination of Boolean\n",
    "values for the operator and what it evaluate )."
   ]
  },
  {
   "cell_type": "markdown",
   "id": "2e41bca6",
   "metadata": {},
   "source": [
    "and operator:\n",
    "Operand 1\tOperand 2\tResult\n",
    "True\tTrue\tTrue\n",
    "True\tFalse\tFalse\n",
    "False\tTrue\tFalse\n",
    "False\tFalse\tFalse\n",
    "or operator:\n",
    "Operand 1\tOperand 2\tResult\n",
    "True\tTrue\tTrue\n",
    "True\tFalse\tTrue\n",
    "False\tTrue\tTrue\n",
    "False\tFalse\tFalse\n",
    "not operator:\n",
    "Operand\tResult\n",
    "True\tFalse\n",
    "False\tTrue"
   ]
  },
  {
   "cell_type": "code",
   "execution_count": null,
   "id": "745b4308",
   "metadata": {},
   "outputs": [],
   "source": [
    "4. What are the values of the following expressions?\n",
    "(5 > 4) and (3 == 5)\n",
    "not (5 > 4)\n",
    "(5 > 4) or (3 == 5)\n",
    "not ((5 > 4) or (3 == 5))\n",
    "(True and True) and (True == False)\n",
    "(not False) or (not True)"
   ]
  },
  {
   "cell_type": "code",
   "execution_count": null,
   "id": "57145ba6",
   "metadata": {},
   "outputs": [],
   "source": [
    "(5 > 4) and (3 == 5) evaluates to False. This is because the first condition 5 > 4 is True, but the second condition 3 == 5 is False, so the overall expression is False and False, which evaluates to False.\n",
    "\n",
    "not (5 > 4) evaluates to False. This is because 5 > 4 is True, but the not operator negates this value to False.\n",
    "\n",
    "(5 > 4) or (3 == 5) evaluates to True. This is because at least one of the conditions is true (5 > 4 is True), so the overall expression is True or False, which evaluates to True.\n",
    "\n",
    "not ((5 > 4) or (3 == 5)) evaluates to False. This is because the inner expression (5 > 4) or (3 == 5) is True (because 5 > 4 is True), so the not operator negates this value to False.\n",
    "\n",
    "(True and True) and (True == False) evaluates to False. This is because the first part of the expression (True and True) is True, but the second part True == False is False, so the overall expression is True and False, which evaluates to False.\n",
    "\n",
    "(not False) or (not True) evaluates to True. This is because the first part of the expression not False is True, and the second part not True is also False, so the overall expression is True or False, which evaluates to True."
   ]
  },
  {
   "cell_type": "code",
   "execution_count": null,
   "id": "1650bdb1",
   "metadata": {},
   "outputs": [],
   "source": [
    "5. What are the six comparison operators?"
   ]
  },
  {
   "cell_type": "code",
   "execution_count": null,
   "id": "143a9530",
   "metadata": {},
   "outputs": [],
   "source": [
    "The six comparison operators in Python are:\n",
    "\n",
    "> (greater than): Returns True if the left operand is greater than the right operand.\n",
    "< (less than): Returns True if the left operand is less than the right operand.\n",
    ">= (greater than or equal to): Returns True if the left operand is greater than or equal to the right operand.\n",
    "<= (less than or equal to): Returns True if the left operand is less than or equal to the right operand.\n",
    "== (equal to): Returns True if the left operand is equal to the right operand.\n",
    "!= (not equal to): Returns True if the left operand is not equal to the right operand.\n"
   ]
  },
  {
   "cell_type": "code",
   "execution_count": null,
   "id": "0d6d6b0b",
   "metadata": {},
   "outputs": [],
   "source": [
    "6. How do you tell the difference between the equal to and assignment operators?Describe a\n",
    "condition and when you would use one."
   ]
  },
  {
   "cell_type": "code",
   "execution_count": null,
   "id": "abacaffa",
   "metadata": {},
   "outputs": [],
   "source": [
    "The equal to operator == is used to compare two values and determine if they are equal or not. It returns True if the two values are equal, and False otherwise.\n",
    "\n",
    "The assignment operator = is used to assign a value to a variable. It assigns the value on the right-hand side to the variable on the left-hand side."
   ]
  },
  {
   "cell_type": "code",
   "execution_count": null,
   "id": "bc9d9846",
   "metadata": {},
   "outputs": [],
   "source": [
    "7. Identify the three blocks in this code:\n",
    "\n",
    "spam = 0\n",
    "if spam == 10:\n",
    "    print('eggs')\n",
    "if spam > 5:\n",
    "    print('bacon')\n",
    "else:\n",
    "    print('ham')\n",
    "print('spam')\n",
    "print('spam')\n"
   ]
  },
  {
   "cell_type": "code",
   "execution_count": null,
   "id": "d807a771",
   "metadata": {},
   "outputs": [],
   "source": [
    "# Block 1\n",
    "spam = 0\n",
    "if spam == 10:\n",
    "    print('eggs')\n",
    "\n",
    "# Block 2\n",
    "if spam > 5:\n",
    "    print('bacon')\n",
    "else:\n",
    "    print('ham')\n",
    "\n",
    "# Block 3\n",
    "print('spam')\n",
    "print('spam')\n"
   ]
  },
  {
   "cell_type": "code",
   "execution_count": null,
   "id": "d73fc2b6",
   "metadata": {},
   "outputs": [],
   "source": [
    "8.Write code that prints Hello if 1 is stored in spam, prints Howdy if 2 is stored in spam, and prints\n",
    "Greetings! if anything else is stored in spam."
   ]
  },
  {
   "cell_type": "code",
   "execution_count": null,
   "id": "338c9709",
   "metadata": {},
   "outputs": [],
   "source": [
    "if spam == 1:\n",
    "    print(\"Hello\")\n",
    "elif spam == 2:\n",
    "    print(\"Howdy\")\n",
    "else:\n",
    "    print(\"Greetings!\")\n"
   ]
  },
  {
   "cell_type": "code",
   "execution_count": null,
   "id": "5b85711f",
   "metadata": {},
   "outputs": [],
   "source": [
    "9.If your programme is stuck in an endless loop, what keys you’ll press?\n"
   ]
  },
  {
   "cell_type": "code",
   "execution_count": null,
   "id": "ce3936d0",
   "metadata": {},
   "outputs": [],
   "source": [
    "If a program is stuck in an endless loop, you can press the Ctrl + C keys (on Windows and Linux) or Command + C keys (on Mac) to interrupt the program and stop its execution. This is known as a keyboard interrupt and will cause the program to exit immediately."
   ]
  },
  {
   "cell_type": "code",
   "execution_count": null,
   "id": "d8428a6d",
   "metadata": {},
   "outputs": [],
   "source": [
    "10. How can you tell the difference between break and continue?"
   ]
  },
  {
   "cell_type": "code",
   "execution_count": null,
   "id": "dcf442ef",
   "metadata": {},
   "outputs": [],
   "source": [
    "break is used to terminate a loop prematurely, while continue is used to skip the current iteration of a loop and move on to the next iteration."
   ]
  },
  {
   "cell_type": "code",
   "execution_count": null,
   "id": "90dd08db",
   "metadata": {},
   "outputs": [],
   "source": [
    "11. In a for loop, what is the difference between range(10), range(0, 10), and range(0, 10, 1)?"
   ]
  },
  {
   "cell_type": "code",
   "execution_count": null,
   "id": "f871b3d1",
   "metadata": {},
   "outputs": [],
   "source": [
    "In a for loop, range(10), range(0, 10), and range(0, 10, 1) all produce the same sequence of numbers, which is [0, 1, 2, 3, 4, 5, 6, 7, 8, 9]. The difference between them is how the arguments are specified:\n",
    "\n",
    "range(10) - This specifies a single argument, which is the stop value (exclusive). This creates a sequence of numbers from 0 up to (but not including) 10, with a step size of 1.\n",
    "\n",
    "range(0, 10) - This specifies two arguments, start (inclusive) and stop (exclusive) values. This creates a sequence of numbers from 0 up to (but not including) 10, with a step size of 1.\n",
    "\n",
    "range(0, 10, 1) - This specifies three arguments, start (inclusive), stop (exclusive), and step values. This creates a sequence of numbers from 0 up to (but not including) 10, with a step size of 1."
   ]
  },
  {
   "cell_type": "code",
   "execution_count": null,
   "id": "9c64c4e9",
   "metadata": {},
   "outputs": [],
   "source": [
    "12. Write a short program that prints the numbers 1 to 10 using a for loop. Then write an equivalent\n",
    "program that prints the numbers 1 to 10 using a while loop."
   ]
  },
  {
   "cell_type": "code",
   "execution_count": null,
   "id": "74f735cb",
   "metadata": {},
   "outputs": [],
   "source": [
    "for i in range(1, 11):\n",
    "    print(i)\n",
    "    \n",
    "i = 1\n",
    "while i <= 10:\n",
    "    print(i)\n",
    "    i += 1\n"
   ]
  },
  {
   "cell_type": "code",
   "execution_count": null,
   "id": "7622b7cd",
   "metadata": {},
   "outputs": [],
   "source": [
    "13. If you had a function named bacon() inside a module named spam, how would you call it after\n",
    "importing spam?"
   ]
  },
  {
   "cell_type": "code",
   "execution_count": null,
   "id": "e10d929d",
   "metadata": {},
   "outputs": [],
   "source": [
    "import spam\n",
    "\n",
    "spam.bacon()\n"
   ]
  }
 ],
 "metadata": {
  "kernelspec": {
   "display_name": "Python 3 (ipykernel)",
   "language": "python",
   "name": "python3"
  },
  "language_info": {
   "codemirror_mode": {
    "name": "ipython",
    "version": 3
   },
   "file_extension": ".py",
   "mimetype": "text/x-python",
   "name": "python",
   "nbconvert_exporter": "python",
   "pygments_lexer": "ipython3",
   "version": "3.9.12"
  }
 },
 "nbformat": 4,
 "nbformat_minor": 5
}
