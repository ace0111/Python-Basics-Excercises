{
 "cells": [
  {
   "cell_type": "code",
   "execution_count": null,
   "id": "06d2f1f9",
   "metadata": {},
   "outputs": [],
   "source": [
    "1. What exactly is []?\n",
    "2. In a list of values stored in a variable called spam, how would you assign the value 'hello' as the\n",
    "third value? (Assume [2, 4, 6, 8, 10] are in spam.)\n",
    "Let's pretend the spam includes the list ['a', 'b', 'c', 'd'] for the next three queries.\n",
    "3. What is the value of spam[int(int('3' * 2) / 11)]?\n",
    "4. What is the value of spam[-1]?\n",
    "5. What is the value of spam[:2]?\n",
    "Let's pretend bacon has the list [3.14, 'cat,' 11, 'cat,' True] for the next three questions.\n",
    "6. What is the value of bacon.index('cat')?\n",
    "7. How does bacon.append(99) change the look of the list value in bacon?\n",
    "8. How does bacon.remove('cat') change the look of the list in bacon?\n",
    "9. What are the list concatenation and list replication operators?\n",
    "10. What is difference between the list methods append() and insert()?\n",
    "11. What are the two methods for removing items from a list?\n",
    "12. Describe how list values and string values are identical.\n",
    "13. What's the difference between tuples and lists?\n",
    "14. How do you type a tuple value that only contains the integer 42?\n",
    "15. How do you get a list value's tuple form? How do you get a tuple value's list form?\n",
    "16. Variables that \"contain\" list values are not necessarily lists themselves. Instead, what do they\n",
    "contain?\n",
    "17. How do you distinguish between copy.copy() and copy.deepcopy()?"
   ]
  },
  {
   "cell_type": "markdown",
   "id": "0b4f8dd2",
   "metadata": {},
   "source": [
    "Answers:\n",
    "1. `[]` represents an empty list in Python.\n",
    "2. `spam[2] = 'hello'`\n",
    "3. `'d'`\n",
    "4. `'d'`\n",
    "5. `['a', 'b']`\n",
    "6. `1` (the index of the first occurrence of 'cat')\n",
    "7. `bacon` becomes `[3.14, 'cat', 11, 'cat', True, 99]`\n",
    "8. `bacon` becomes `[3.14, 11, 'cat', True]` (the first occurrence of 'cat' is removed)\n",
    "9. The list concatenation operator is `+` and the list replication operator is `*`.\n",
    "10. The `append()` method adds an item to the end of a list, while the `insert()` method adds an item to a specific index in the list.\n",
    "11. The two methods for removing items from a list are `remove()` (removes the first occurrence of a specific value) and `pop()` (removes an item from a specific index and returns its value).\n",
    "12. List and string values are both ordered sequences of elements. They can be indexed and sliced, and also support concatenation and replication.\n",
    "13. Lists and tuples are both ordered sequences of elements, but lists are mutable (can be modified after creation) while tuples are immutable (cannot be modified after creation).\n",
    "14. `(42)`\n",
    "15. To get a list value's tuple form, use the `tuple()` function. To get a tuple value's list form, use the `list()` function.\n",
    "16. Variables that \"contain\" list values are actually references to the list objects themselves, rather than containing the actual values of the list.\n",
    "17. `copy.copy()` creates a shallow copy of a list (the new list contains references to the same objects as the original list), while `copy.deepcopy()` creates a deep copy (the new list contains copies of the original objects themselves)."
   ]
  }
 ],
 "metadata": {
  "kernelspec": {
   "display_name": "Python 3 (ipykernel)",
   "language": "python",
   "name": "python3"
  },
  "language_info": {
   "codemirror_mode": {
    "name": "ipython",
    "version": 3
   },
   "file_extension": ".py",
   "mimetype": "text/x-python",
   "name": "python",
   "nbconvert_exporter": "python",
   "pygments_lexer": "ipython3",
   "version": "3.9.12"
  }
 },
 "nbformat": 4,
 "nbformat_minor": 5
}
