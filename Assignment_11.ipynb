{
 "cells": [
  {
   "cell_type": "code",
   "execution_count": null,
   "id": "1d2174f9",
   "metadata": {},
   "outputs": [],
   "source": [
    "1. Create an assert statement that throws an AssertionError if the variable spam is a negative\n",
    "integer.\n",
    "2. Write an assert statement that triggers an AssertionError if the variables eggs and bacon contain\n",
    "strings that are the same as each other, even if their cases are different (that is, 'hello' and 'hello' are\n",
    "considered the same, and 'goodbye' and 'GOODbye' are also considered the same).\n",
    "3. Create an assert statement that throws an AssertionError every time.\n",
    "4. What are the two lines that must be present in your software in order to call logging.debug()?\n",
    "5. What are the two lines that your program must have in order to have logging.debug() send a\n",
    "logging message to a file named programLog.txt?\n",
    "6. What are the five levels of logging?\n",
    "7. What line of code would you add to your software to disable all logging messages?\n",
    "8.Why is using logging messages better than using print() to display the same message?\n",
    "9. What are the differences between the Step Over, Step In, and Step Out buttons in the debugger?\n",
    "10.After you click Continue, when will the debugger stop ?\n",
    "11. What is the concept of a breakpoint?"
   ]
  },
  {
   "cell_type": "markdown",
   "id": "40774928",
   "metadata": {},
   "source": [
    "\n",
    "\n",
    "1. assert spam >= 0, \"spam must not be a negative integer\"\n",
    "2. assert eggs.lower() != bacon.lower(), \"eggs and bacon cannot be the same\"\n",
    "3. assert False, \"This assertion always fails\"\n",
    "4. import logging and logging.basicConfig(level=logging.DEBUG)\n",
    "5. import logging and logging.basicConfig(filename='programLog.txt', level=logging.DEBUG)\n",
    "6. The five levels of logging are: DEBUG, INFO, WARNING, ERROR, and CRITICAL.\n",
    "7. logging.disable(logging.CRITICAL)\n",
    "8. Logging messages provide more control over the output and can be configured to only display certain messages based on their level. They can also be redirected to a file for easier debugging and analysis.\n",
    "9. Step Over: Executes the current line and moves to the next line, without stepping into any function calls. Step In: Steps into the next function call and pauses on the first line of that function. Step Out: Executes lines of code in the current function until it returns, then pauses on the line that called the function.\n",
    "10. The debugger will stop at the next breakpoint or when the program terminates.\n",
    "11. A breakpoint is a point in the code where the debugger will pause execution and allow the programmer to inspect the current state of the program. It can be used for debugging purposes to step through code and identify errors."
   ]
  }
 ],
 "metadata": {
  "kernelspec": {
   "display_name": "Python 3 (ipykernel)",
   "language": "python",
   "name": "python3"
  },
  "language_info": {
   "codemirror_mode": {
    "name": "ipython",
    "version": 3
   },
   "file_extension": ".py",
   "mimetype": "text/x-python",
   "name": "python",
   "nbconvert_exporter": "python",
   "pygments_lexer": "ipython3",
   "version": "3.9.12"
  }
 },
 "nbformat": 4,
 "nbformat_minor": 5
}
