{
 "cells": [
  {
   "cell_type": "code",
   "execution_count": null,
   "id": "b962d0d3",
   "metadata": {},
   "outputs": [],
   "source": [
    "1. Why are functions advantageous to have in your programs?"
   ]
  },
  {
   "cell_type": "code",
   "execution_count": null,
   "id": "4f870b24",
   "metadata": {},
   "outputs": [],
   "source": [
    "Functions are advantageous to have in your programs for several reasons:\n",
    "\n",
    "Modularity: Functions allow you to break your code into smaller, more manageable pieces that can be reused throughout your program or in other programs. This makes your code more modular and easier to read and maintain.\n",
    "\n",
    "Abstraction: Functions provide a level of abstraction that can make your code more readable and easier to understand. By giving a name to a group of statements, you can make your code more self-explanatory.\n",
    "\n",
    "Encapsulation: Functions allow you to encapsulate logic into a separate block of code, which can be tested independently and can make your code more resilient to changes.\n",
    "\n",
    "Reusability: Functions can be reused multiple times in your code without the need to duplicate the code. This can save you time and effort and make your code more efficient.\n",
    "\n",
    "Debugging: Functions can make debugging easier by allowing you to isolate and test individual pieces of your code separately from the rest of your program."
   ]
  },
  {
   "cell_type": "code",
   "execution_count": null,
   "id": "48905111",
   "metadata": {},
   "outputs": [],
   "source": [
    "2. When does the code in a function run: when its specified or when its called?"
   ]
  },
  {
   "cell_type": "code",
   "execution_count": null,
   "id": "a5e59c0b",
   "metadata": {},
   "outputs": [],
   "source": [
    "The code in a function runs only when it is called, not when it is specified."
   ]
  },
  {
   "cell_type": "code",
   "execution_count": null,
   "id": "49de3963",
   "metadata": {},
   "outputs": [],
   "source": [
    "3. What statement creates a function?"
   ]
  },
  {
   "cell_type": "code",
   "execution_count": null,
   "id": "3b17ab03",
   "metadata": {},
   "outputs": [],
   "source": [
    "The def statement creates a function in Python."
   ]
  },
  {
   "cell_type": "code",
   "execution_count": null,
   "id": "f9575da6",
   "metadata": {},
   "outputs": [],
   "source": [
    "4. What is the difference between a function and a function call?"
   ]
  },
  {
   "cell_type": "code",
   "execution_count": null,
   "id": "1ada1d83",
   "metadata": {},
   "outputs": [],
   "source": [
    "A function is a block of code that performs a specific task and may return a value. It needs to be defined before it can be called. A function call is the act of invoking the function after it has been defined. When a function is called, the code inside the function is executed and any value returned by the function is returned to the point of the function call."
   ]
  },
  {
   "cell_type": "code",
   "execution_count": null,
   "id": "aaf62bfd",
   "metadata": {},
   "outputs": [],
   "source": [
    "5. How many global scopes are there in a Python program? How many local scopes?"
   ]
  },
  {
   "cell_type": "code",
   "execution_count": null,
   "id": "3cf84064",
   "metadata": {},
   "outputs": [],
   "source": [
    "In a Python program, there is one global scope, which is created when the program starts running. Each function call creates a new local scope. So, the number of local scopes depends on how many function calls have been made during the program's execution."
   ]
  },
  {
   "cell_type": "code",
   "execution_count": null,
   "id": "5ae1f8e7",
   "metadata": {},
   "outputs": [],
   "source": [
    "6. What happens to variables in a local scope when the function call returns?"
   ]
  },
  {
   "cell_type": "code",
   "execution_count": null,
   "id": "72a46a94",
   "metadata": {},
   "outputs": [],
   "source": [
    "When a function call returns, the local scope is destroyed and all the variables in that scope are also destroyed. This means that any values stored in those variables are lost and cannot be accessed anymore. The next time the function is called, a new local scope is created with new variables."
   ]
  },
  {
   "cell_type": "code",
   "execution_count": null,
   "id": "c9d40090",
   "metadata": {},
   "outputs": [],
   "source": [
    "7. What is the concept of a return value? Is it possible to have a return value in an expression?"
   ]
  },
  {
   "cell_type": "code",
   "execution_count": null,
   "id": "d55b1306",
   "metadata": {},
   "outputs": [],
   "source": [
    "A return value is the value that a function call evaluates to when it completes its execution. It is the value that the function sends back to the caller. The return value is specified using the return statement in the function.\n",
    "\n",
    "Yes, it is possible to have a return value in an expression. This is often seen in conditional statements or as part of a larger expression. "
   ]
  },
  {
   "cell_type": "code",
   "execution_count": null,
   "id": "af7f009a",
   "metadata": {},
   "outputs": [],
   "source": [
    "8. If a function does not have a return statement, what is the return value of a call to that function?"
   ]
  },
  {
   "cell_type": "code",
   "execution_count": null,
   "id": "fdd45c49",
   "metadata": {},
   "outputs": [],
   "source": [
    "If a function does not have a return statement, the return value of a call to that function will be None."
   ]
  },
  {
   "cell_type": "code",
   "execution_count": null,
   "id": "d434128f",
   "metadata": {},
   "outputs": [],
   "source": [
    "9. How do you make a function variable refer to the global variable?"
   ]
  },
  {
   "cell_type": "code",
   "execution_count": null,
   "id": "cd56d3b9",
   "metadata": {},
   "outputs": [],
   "source": [
    "To make a function variable refer to a global variable, the global keyword is used inside the function before the variable is referenced or modified. This tells Python that the variable is a global variable and not a local variable. \n",
    "\n",
    "x = 10 # global variable\n",
    "\n",
    "def foo():\n",
    "    global x # declare x as a global variable\n",
    "    x = 5 # modify the global variable\n",
    "\n",
    "foo() # call the function\n",
    "print(x) # prints 5\n"
   ]
  },
  {
   "cell_type": "code",
   "execution_count": null,
   "id": "7e2a1fe3",
   "metadata": {},
   "outputs": [],
   "source": [
    "10. What is the data type of None?"
   ]
  },
  {
   "cell_type": "code",
   "execution_count": null,
   "id": "72598fee",
   "metadata": {},
   "outputs": [],
   "source": [
    "The data type of None is NoneType."
   ]
  },
  {
   "cell_type": "code",
   "execution_count": null,
   "id": "9de3622b",
   "metadata": {},
   "outputs": [],
   "source": [
    "11. What does the sentence import areallyourpetsnamederic do?11. What does the sentence import areallyourpetsnamederic do?"
   ]
  },
  {
   "cell_type": "code",
   "execution_count": null,
   "id": "4e1d9c6f",
   "metadata": {},
   "outputs": [],
   "source": [
    "The sentence `import areallyourpetsnamederic` attempts to import a module named `areallyourpetsnamederic` into the current Python script. If the module exists and can be found by Python, it will be loaded and its contents will be available for use in the script. If the module does not exist or cannot be found, a `ModuleNotFoundError` will be raised."
   ]
  },
  {
   "cell_type": "code",
   "execution_count": null,
   "id": "1fb438d5",
   "metadata": {},
   "outputs": [],
   "source": [
    "12. If you had a bacon() feature in a spam module, what would you call it after importing spam?"
   ]
  },
  {
   "cell_type": "code",
   "execution_count": null,
   "id": "47fb773f",
   "metadata": {},
   "outputs": [],
   "source": [
    "You would call it using the dot notation: spam.bacon()"
   ]
  },
  {
   "cell_type": "code",
   "execution_count": null,
   "id": "5813c8a0",
   "metadata": {},
   "outputs": [],
   "source": [
    "13. What can you do to save a programme from crashing if it encounters an error?"
   ]
  },
  {
   "cell_type": "code",
   "execution_count": null,
   "id": "32293226",
   "metadata": {},
   "outputs": [],
   "source": [
    "To save a program from crashing if it encounters an error, you can use exception handling by enclosing the code that may raise an exception inside a try block and catching the exception in an except block. By catching the exception, you can perform error handling, display a user-friendly message, and gracefully terminate the program without causing it to crash\n",
    "\n",
    "try:\n",
    "    # code that may raise an exception\n",
    "except ExceptionType:\n",
    "    # code to handle the exception\n",
    "    # display a user-friendly message\n",
    "finally:\n",
    "    # code that will be executed regardless of whether an exception was raised or not\n"
   ]
  },
  {
   "cell_type": "code",
   "execution_count": null,
   "id": "bdacea34",
   "metadata": {},
   "outputs": [],
   "source": [
    "14. What is the purpose of the try clause? What is the purpose of the except clause?"
   ]
  },
  {
   "cell_type": "code",
   "execution_count": null,
   "id": "c2c4f6ef",
   "metadata": {},
   "outputs": [],
   "source": [
    "the try block is used to execute the code that might cause an error, and the except block is used to handle the exception and to prevent the program from crashing."
   ]
  }
 ],
 "metadata": {
  "kernelspec": {
   "display_name": "Python 3 (ipykernel)",
   "language": "python",
   "name": "python3"
  },
  "language_info": {
   "codemirror_mode": {
    "name": "ipython",
    "version": 3
   },
   "file_extension": ".py",
   "mimetype": "text/x-python",
   "name": "python",
   "nbconvert_exporter": "python",
   "pygments_lexer": "ipython3",
   "version": "3.9.12"
  }
 },
 "nbformat": 4,
 "nbformat_minor": 5
}
