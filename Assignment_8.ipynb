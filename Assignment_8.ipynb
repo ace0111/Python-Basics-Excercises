{
 "cells": [
  {
   "cell_type": "code",
   "execution_count": null,
   "id": "132e6157",
   "metadata": {},
   "outputs": [],
   "source": [
    "1. Is the Python Standard Library included with PyInputPlus?\n",
    "2. Why is PyInputPlus commonly imported with import pyinputplus as pypi?\n",
    "3. How do you distinguish between inputInt() and inputFloat()?\n",
    "4. Using PyInputPlus, how do you ensure that the user enters a whole number between 0 and 99?\n",
    "5. What is transferred to the keyword arguments allowRegexes and blockRegexes?\n",
    "6. If a blank input is entered three times, what does inputStr(limit=3) do?\n",
    "7. If blank input is entered three times, what does inputStr(limit=3, default='hello') do?"
   ]
  },
  {
   "cell_type": "code",
   "execution_count": null,
   "id": "ee213cdc",
   "metadata": {},
   "outputs": [],
   "source": [
    "1. No, the Python Standard Library is not included with PyInputPlus. It is a separate third-party module that needs to be installed.\n",
    "2. PyInputPlus is commonly imported with the alias `pypi` to make it easier to refer to and to avoid naming conflicts with other modules or functions.\n",
    "3. `inputInt()` only accepts integer input, while `inputFloat()` accepts both integer and floating-point input.\n",
    "4. You can use the `inputInt()` function with the `min` and `max` keyword arguments set to 0 and 99 respectively: `inputInt(min=0, max=99)`.\n",
    "5. The `allowRegexes` and `blockRegexes` keyword arguments in PyInputPlus are lists of regular expressions. `allowRegexes` contains a list of regular expressions that the input must match to be considered valid, while `blockRegexes` contains a list of regular expressions that the input must not match.\n",
    "6. If blank input is entered three times, `inputStr(limit=3)` will raise a `TimeoutException` with the message \"Timeout waiting for input\".\n",
    "7. If blank input is entered three times, `inputStr(limit=3, default='hello')` will return the string 'hello'."
   ]
  }
 ],
 "metadata": {
  "kernelspec": {
   "display_name": "Python 3 (ipykernel)",
   "language": "python",
   "name": "python3"
  },
  "language_info": {
   "codemirror_mode": {
    "name": "ipython",
    "version": 3
   },
   "file_extension": ".py",
   "mimetype": "text/x-python",
   "name": "python",
   "nbconvert_exporter": "python",
   "pygments_lexer": "ipython3",
   "version": "3.9.12"
  }
 },
 "nbformat": 4,
 "nbformat_minor": 5
}
