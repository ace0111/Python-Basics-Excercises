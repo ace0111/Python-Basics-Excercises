{
 "cells": [
  {
   "cell_type": "code",
   "execution_count": null,
   "id": "af9f5a41",
   "metadata": {},
   "outputs": [],
   "source": [
    "1. What advantages do Excel spreadsheets have over CSV spreadsheets?\n",
    "2.What do you pass to csv.reader() and csv.writer() to create reader and writer objects?\n",
    "3. What modes do File objects for reader and writer objects need to be opened in?\n",
    "4. What method takes a list argument and writes it to a CSV file?\n",
    "5. What do the keyword arguments delimiter and line terminator do?\n",
    "6. What function takes a string of JSON data and returns a Python data structure?\n",
    "7. What function takes a Python data structure and returns a string of JSON data?"
   ]
  },
  {
   "cell_type": "markdown",
   "id": "d8e02207",
   "metadata": {},
   "source": [
    "1. Excel spreadsheets have several advantages over CSV spreadsheets, such as:\n",
    "- Ability to handle complex data with multiple sheets, formulas, and charts\n",
    "- Rich formatting options for cells, fonts, colors, and borders\n",
    "- Data validation rules to ensure consistency and accuracy\n",
    "- Built-in functions for sorting, filtering, and analyzing data\n",
    "\n",
    "2. To create reader and writer objects using the `csv` module in Python, we need to pass a File object opened in the appropriate mode as the first argument. For example, to create a reader object, we pass a File object opened in read mode (`'r'`) as the first argument to `csv.reader()`, like this:\n",
    "```\n",
    "import csv\n",
    "\n",
    "with open('file.csv', 'r') as file:\n",
    "    csv_reader = csv.reader(file)\n",
    "    # rest of the code to read data from the CSV file\n",
    "```\n",
    "Similarly, to create a writer object, we pass a File object opened in write mode (`'w'`) as the first argument to `csv.writer()`, like this:\n",
    "```\n",
    "import csv\n",
    "\n",
    "with open('file.csv', 'w', newline='') as file:\n",
    "    csv_writer = csv.writer(file)\n",
    "    # rest of the code to write data to the CSV file\n",
    "```\n",
    "\n",
    "3. The File objects for reader and writer objects need to be opened in the following modes:\n",
    "- For a reader object: `'r'` (read mode)\n",
    "- For a writer object: `'w'` (write mode) with an optional argument `newline=''` to ensure that the CSV file is written with the correct line endings for the platform it is being run on.\n",
    "\n",
    "4. To write a list of data to a CSV file using the `csv` module, we can use the `writerow()` method of a writer object. For example:\n",
    "```\n",
    "import csv\n",
    "\n",
    "with open('file.csv', 'w', newline='') as file:\n",
    "    csv_writer = csv.writer(file)\n",
    "    csv_writer.writerow(['Name', 'Age', 'Country'])\n",
    "    csv_writer.writerow(['Alice', 28, 'USA'])\n",
    "    csv_writer.writerow(['Bob', 35, 'Canada'])\n",
    "```\n",
    "\n",
    "5. The `delimiter` keyword argument specifies the character to use as the field delimiter in the CSV file. By default, this is a comma (`,`), but it can be changed to any character. The `lineterminator` keyword argument specifies the string to use as the line terminator in the CSV file. By default, this is `'\\r\\n'` (CRLF), but it can be changed to any string.\n",
    "\n",
    "6. The `json.loads()` function takes a string of JSON data and parses it into a Python data structure, typically a dictionary or a list. For example:\n",
    "```\n",
    "import json\n",
    "\n",
    "json_data = '{\"name\": \"Alice\", \"age\": 28, \"country\": \"USA\"}'\n",
    "python_data = json.loads(json_data)\n",
    "print(python_data)  # {'name': 'Alice', 'age': 28, 'country': 'USA'}\n",
    "```\n",
    "\n",
    "7. The `json.dumps()` function takes a Python data structure and converts it to a string of JSON data. For example:\n",
    "```\n",
    "import json\n",
    "\n",
    "python_data = {'name': 'Alice', 'age': 28, 'country': 'USA'}\n",
    "json_data = json.dumps(python_data)\n",
    "print(json_data)  # {\"name\": \"Alice\", \"age\": 28, \"country\": \"USA\"}\n",
    "```"
   ]
  }
 ],
 "metadata": {
  "kernelspec": {
   "display_name": "Python 3 (ipykernel)",
   "language": "python",
   "name": "python3"
  },
  "language_info": {
   "codemirror_mode": {
    "name": "ipython",
    "version": 3
   },
   "file_extension": ".py",
   "mimetype": "text/x-python",
   "name": "python",
   "nbconvert_exporter": "python",
   "pygments_lexer": "ipython3",
   "version": "3.9.12"
  }
 },
 "nbformat": 4,
 "nbformat_minor": 5
}
