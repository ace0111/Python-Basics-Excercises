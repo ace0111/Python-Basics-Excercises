{
 "cells": [
  {
   "cell_type": "code",
   "execution_count": null,
   "id": "1ef81c95",
   "metadata": {},
   "outputs": [],
   "source": [
    "1. What does an empty dictionary's code look like?\n",
    "2. What is the value of a dictionary value with the key 'foo' and the value 42?\n",
    "3. What is the most significant distinction between a dictionary and a list?\n",
    "4. What happens if you try to access spam['foo'] if spam is {'bar': 100}?\n",
    "5. If a dictionary is stored in spam, what is the difference between the expressions 'cat' in spam and\n",
    "'cat' in spam.keys()?\n",
    "6. If a dictionary is stored in spam, what is the difference between the expressions 'cat' in spam and\n",
    "'cat' in spam.values()?\n",
    "7. What is a shortcut for the following code?\n",
    "if 'color' not in spam:\n",
    "spam['color'] = 'black'\n",
    "\n",
    "8. How do you \"pretty print\" dictionary values using which module and function?"
   ]
  },
  {
   "cell_type": "code",
   "execution_count": null,
   "id": "83c4dadd",
   "metadata": {},
   "outputs": [],
   "source": [
    "Answers:\n",
    "\n",
    "1. An empty dictionary's code looks like this: {}.\n",
    "2. The value of a dictionary value with the key 'foo' and the value 42 would look like this: {'foo': 42}.\n",
    "3. The most significant distinction between a dictionary and a list is that a dictionary is an unordered collection of key-value pairs, while a list is an ordered collection of values.\n",
    "4. If you try to access spam['foo'] if spam is {'bar': 100}, you will get a KeyError because 'foo' is not a valid key in the spam dictionary.\n",
    "5. If a dictionary is stored in spam, the expression 'cat' in spam checks whether 'cat' is a key in the dictionary, while 'cat' in spam.keys() explicitly checks for the presence of the 'cat' key.\n",
    "6. If a dictionary is stored in spam, the expression 'cat' in spam checks whether 'cat' is a key in the dictionary, while 'cat' in spam.values() checks whether 'cat' is a value in the dictionary (i.e., whether 'cat' appears in at least one of the values).\n",
    "7. A shortcut for the given code would be to use the defaultdict class from the collections module. Here's an example:\n",
    "\n",
    "```\n",
    "from collections import defaultdict\n",
    "\n",
    "spam = defaultdict(lambda: 'black')\n",
    "```\n",
    "\n",
    "This creates a new dictionary with a default value of 'black' for any missing keys. So if 'color' is not in spam, the expression `spam['color']` will automatically return 'black'.\n",
    "8. The module and function used to pretty print dictionary values is `pprint.pprint()`. To use this function, you first need to import the `pprint` module. Here's an example:\n",
    "\n",
    "```\n",
    "import pprint\n",
    "\n",
    "my_dict = {'name': 'John', 'age': 30, 'city': 'New York'}\n",
    "pprint.pprint(my_dict)\n",
    "```\n",
    "\n",
    "This will display the dictionary with each key-value pair on a separate line, indented for clarity.\n",
    "    \n"
   ]
  }
 ],
 "metadata": {
  "kernelspec": {
   "display_name": "Python 3 (ipykernel)",
   "language": "python",
   "name": "python3"
  },
  "language_info": {
   "codemirror_mode": {
    "name": "ipython",
    "version": 3
   },
   "file_extension": ".py",
   "mimetype": "text/x-python",
   "name": "python",
   "nbconvert_exporter": "python",
   "pygments_lexer": "ipython3",
   "version": "3.9.12"
  }
 },
 "nbformat": 4,
 "nbformat_minor": 5
}
