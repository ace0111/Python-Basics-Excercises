{
 "cells": [
  {
   "cell_type": "code",
   "execution_count": null,
   "id": "b676587a",
   "metadata": {},
   "outputs": [],
   "source": [
    "1. What does RGBA stand for?\n",
    "2. From the Pillow module, how do you get the RGBA value of any images?\n",
    "3. What is a box tuple, and how does it work?\n",
    "4. Use your image and load in notebook then, How can you find out the width and height of an\n",
    "Image object?\n",
    "5. What method would you call to get Image object for a 100×100 image, excluding the lower-left\n",
    "quarter of it?\n",
    "6. After making changes to an Image object, how could you save it as an image file?\n",
    "7. What module contains Pillow’s shape-drawing code?\n",
    "8. Image objects do not have drawing methods. What kind of object does? How do you get this kind\n",
    "of object?"
   ]
  },
  {
   "cell_type": "markdown",
   "id": "97ef5fff",
   "metadata": {},
   "source": [
    "1. RGBA stands for Red, Green, Blue, and Alpha. It is a color model used for digital images and defines the level of opacity of each pixel.\n",
    "2. To get the RGBA value of any image using the Pillow module, you can use the `getpixel()` method on an Image object. For example: \n",
    "```python\n",
    "from PIL import Image\n",
    "\n",
    "# Open image file\n",
    "image = Image.open('image.jpg')\n",
    "\n",
    "# Get the RGBA value of pixel at coordinates (50, 50)\n",
    "pixel_rgba = image.getpixel((50, 50))\n",
    "print(pixel_rgba)  # prints (R, G, B, A) values\n",
    "```\n",
    "3. A box tuple in Pillow is a tuple containing four values that define a rectangular region in an image. The tuple values are `(left, upper, right, lower)`, where `left` is the x-coordinate of the leftmost edge of the box, `upper` is the y-coordinate of the topmost edge of the box, `right` is the x-coordinate of the rightmost edge of the box, and `lower` is the y-coordinate of the bottommost edge of the box. The box tuple is used to define the region of interest in an image for various operations like cropping, pasting, etc.\n",
    "4. To find out the width and height of an Image object, you can use the `size` attribute. For example:\n",
    "```python\n",
    "from PIL import Image\n",
    "\n",
    "# Open image file\n",
    "image = Image.open('image.jpg')\n",
    "\n",
    "# Get width and height of image\n",
    "width, height = image.size\n",
    "print(\"Image width:\", width)\n",
    "print(\"Image height:\", height)\n",
    "```\n",
    "5. To get an Image object for a 100×100 image, excluding the lower-left quarter of it, you can use the `crop()` method. For example:\n",
    "```python\n",
    "from PIL import Image\n",
    "\n",
    "# Open image file\n",
    "image = Image.open('image.jpg')\n",
    "\n",
    "# Crop the image to exclude lower-left quarter\n",
    "cropped_image = image.crop((0, 0, 50, 50))\n",
    "\n",
    "# Get the size of the cropped image\n",
    "width, height = cropped_image.size\n",
    "print(\"Cropped image width:\", width)\n",
    "print(\"Cropped image height:\", height)\n",
    "```\n",
    "6. After making changes to an Image object, you can save it as an image file using the `save()` method. For example:\n",
    "```python\n",
    "from PIL import Image\n",
    "\n",
    "# Open image file\n",
    "image = Image.open('image.jpg')\n",
    "\n",
    "# Make changes to image\n",
    "...\n",
    "\n",
    "# Save the image with a new filename and format\n",
    "image.save('new_image.png', 'PNG')\n",
    "```\n",
    "7. The Pillow module's shape-drawing code is contained in the `ImageDraw` module.\n",
    "8. ImageDraw objects have drawing methods like `point()`, `line()`, `rectangle()`, `ellipse()`, etc. You can create an ImageDraw object using the `Draw()` method of an Image object. For example:\n",
    "```python\n",
    "from PIL import Image, ImageDraw\n",
    "\n",
    "# Open image file\n",
    "image = Image.open('image.jpg')\n",
    "\n",
    "# Create an ImageDraw object\n",
    "draw = ImageDraw.Draw(image)\n",
    "\n",
    "# Draw a line from (0, 0) to (100, 100)\n",
    "draw.line((0, 0, 100, 100), fill=(255, 0, 0))\n",
    "\n",
    "# Save the image with a new filename and format\n",
    "image.save('new_image.png', 'PNG')\n",
    "```"
   ]
  },
  {
   "cell_type": "code",
   "execution_count": 3,
   "id": "343fa0f7",
   "metadata": {},
   "outputs": [
    {
     "name": "stdout",
     "output_type": "stream",
     "text": [
      "(53, 58, 64)\n"
     ]
    }
   ],
   "source": [
    "#4\n",
    "from PIL import Image\n",
    "\n",
    "# Open image file\n",
    "image = Image.open('C:/Users/Dell/Desktop/image.jpg')\n",
    "\n",
    "# Get the RGBA value of pixel at coordinates (50, 50)\n",
    "pixel_rgba = image.getpixel((50, 50))\n",
    "print(pixel_rgba)  "
   ]
  },
  {
   "cell_type": "code",
   "execution_count": 4,
   "id": "6b301b6c",
   "metadata": {},
   "outputs": [
    {
     "name": "stdout",
     "output_type": "stream",
     "text": [
      "Cropped image width: 50\n",
      "Cropped image height: 50\n"
     ]
    }
   ],
   "source": [
    "#5\n",
    "from PIL import Image\n",
    "\n",
    "# Open image file\n",
    "image = Image.open('C:/Users/Dell/Desktop/image.jpg')\n",
    "\n",
    "# Crop the image to exclude lower-left quarter\n",
    "cropped_image = image.crop((0, 0, 50, 50))\n",
    "\n",
    "# Get the size of the cropped image\n",
    "width, height = cropped_image.size\n",
    "print(\"Cropped image width:\", width)\n",
    "print(\"Cropped image height:\", height)\n"
   ]
  },
  {
   "cell_type": "code",
   "execution_count": null,
   "id": "e280cc7a",
   "metadata": {},
   "outputs": [],
   "source": []
  }
 ],
 "metadata": {
  "kernelspec": {
   "display_name": "Python 3 (ipykernel)",
   "language": "python",
   "name": "python3"
  },
  "language_info": {
   "codemirror_mode": {
    "name": "ipython",
    "version": 3
   },
   "file_extension": ".py",
   "mimetype": "text/x-python",
   "name": "python",
   "nbconvert_exporter": "python",
   "pygments_lexer": "ipython3",
   "version": "3.9.12"
  }
 },
 "nbformat": 4,
 "nbformat_minor": 5
}
