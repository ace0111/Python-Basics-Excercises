{
 "cells": [
  {
   "cell_type": "code",
   "execution_count": null,
   "id": "0e4420c5",
   "metadata": {},
   "outputs": [],
   "source": [
    "1.How many seconds are in an hour? Use the interactive interpreter as a calculator and multiply the\n",
    "number of seconds in a minute (60) by the number of minutes in an hour (also 60).\n",
    "sol. 60\n",
    "2. Assign the result from the previous task (seconds in an hour) to a variable called\n",
    "seconds_per_hour.\n",
    "3. How many seconds do you think there are in a day? Make use of the variables seconds per hour\n",
    "and minutes per hour.\n",
    "4. Calculate seconds per day again, but this time save the result in a variable called seconds_per_day\n",
    "5. Divide seconds_per_day by seconds_per_hour. Use floating-point (/) division.\n",
    "6. Divide seconds_per_day by seconds_per_hour, using integer (//) division. Did this number agree\n",
    "with the floating-point value from the previous question, aside from the final .0?\n",
    "7. Write a generator, genPrimes, that returns the sequence of prime numbers on successive calls to\n",
    "its next() method: 2, 3, 5, 7, 11, ..."
   ]
  },
  {
   "cell_type": "markdown",
   "id": "1e03c4a9",
   "metadata": {},
   "source": [
    "1. There are 3600 seconds in an hour. (60 seconds/minute * 60 minutes/hour = 3600 seconds/hour)\n",
    "2. `seconds_per_hour = 3600`\n",
    "3. There are `24 * seconds_per_hour = 86,400` seconds in a day. (24 hours/day * 3600 seconds/hour = 86,400 seconds/day)\n",
    "4. `seconds_per_day = 24 * seconds_per_hour`\n",
    "5. `seconds_per_day / seconds_per_hour` equals 24.0, since it's floating-point division.\n",
    "6. `seconds_per_day // seconds_per_hour` also equals 24, which agrees with the previous result (aside from the final .0, which is only present in the floating-point division).\n",
    "7. Here is an implementation of the genPrimes generator:\n",
    "\n",
    "```python\n",
    "def genPrimes():\n",
    "    primes = []\n",
    "    n = 2\n",
    "    while True:\n",
    "        if all(n % p != 0 for p in primes):\n",
    "            primes.append(n)\n",
    "            yield n\n",
    "        n += 1\n",
    "```"
   ]
  },
  {
   "cell_type": "code",
   "execution_count": 1,
   "id": "386f60c6",
   "metadata": {},
   "outputs": [],
   "source": [
    "def genPrimes():\n",
    "    primes = []\n",
    "    n = 2\n",
    "    while True:\n",
    "        if all(n % p != 0 for p in primes):\n",
    "            primes.append(n)\n",
    "            yield n\n",
    "        n += 1"
   ]
  },
  {
   "cell_type": "code",
   "execution_count": 2,
   "id": "b00e96f6",
   "metadata": {},
   "outputs": [
    {
     "name": "stdout",
     "output_type": "stream",
     "text": [
      "2\n",
      "3\n",
      "5\n",
      "7\n"
     ]
    }
   ],
   "source": [
    "primes = genPrimes()\n",
    "print(next(primes)) \n",
    "print(next(primes)) \n",
    "print(next(primes))  \n",
    "print(next(primes))  \n"
   ]
  },
  {
   "cell_type": "code",
   "execution_count": null,
   "id": "60aeefa3",
   "metadata": {},
   "outputs": [],
   "source": []
  }
 ],
 "metadata": {
  "kernelspec": {
   "display_name": "Python 3 (ipykernel)",
   "language": "python",
   "name": "python3"
  },
  "language_info": {
   "codemirror_mode": {
    "name": "ipython",
    "version": 3
   },
   "file_extension": ".py",
   "mimetype": "text/x-python",
   "name": "python",
   "nbconvert_exporter": "python",
   "pygments_lexer": "ipython3",
   "version": "3.9.12"
  }
 },
 "nbformat": 4,
 "nbformat_minor": 5
}
