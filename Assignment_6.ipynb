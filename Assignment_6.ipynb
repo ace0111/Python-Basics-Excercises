{
 "cells": [
  {
   "cell_type": "code",
   "execution_count": null,
   "id": "9969b234",
   "metadata": {},
   "outputs": [],
   "source": [
    "1. What are escape characters, and how do you use them?\n",
    "2. What do the escape characters n and t stand for?\n",
    "3. What is the way to include backslash characters in a string?\n",
    "4. The string \"Howl's Moving Castle\" is a correct value. Why isn't the single quote character in the\n",
    "word Howl's not escaped a problem?\n",
    "5. How do you write a string of newlines if you don't want to use the n character?\n",
    "6. What are the values of the given expressions?\n",
    "'Hello, world!'[1]\n",
    "'Hello, world!'[0:5]\n",
    "'Hello, world!'[:5]\n",
    "'Hello, world!'[3:]\n",
    "\n",
    "7. What are the values of the following expressions?\n",
    "'Hello'.upper()\n",
    "'Hello'.upper().isupper()\n",
    "'Hello'.upper().lower()\n",
    "8. What are the values of the following expressions?\n",
    "'Remember, remember, the fifth of July.'.split()\n",
    "'-'.join('There can only one.'.split())\n",
    "9. What are the methods for right-justifying, left-justifying, and centering a string?\n",
    "10. What is the best way to remove whitespace characters from the start or end?"
   ]
  },
  {
   "cell_type": "code",
   "execution_count": null,
   "id": "e235e3b4",
   "metadata": {},
   "outputs": [],
   "source": [
    "Answers:\n",
    "    \n",
    "1. Escape characters are special characters in a string that are used to represent characters that are not easily typed or visible. They are denoted by a backslash (\\) followed by the character you want to include. For example, to include a double quote character within a string that is delimited by double quotes, you would use the escape character sequence \\\".\n",
    "2. The escape character sequence '\\n' represents a newline character, while the escape character sequence '\\t' represents a tab character.\n",
    "3. To include a backslash character in a string, you can use the escape character sequence '\\\\'.\n",
    "4. The single quote character in the word Howl's is not escaped because the string is delimited by double quotes. Single quote characters can be included in a string delimited by double quotes, and vice versa.\n",
    "5. If you don't want to use the '\\n' character to represent a newline in a string, you can use the triple quotes to define a multiline string. \n",
    "6. The values of the given expressions are:\n",
    "- 'e'\n",
    "- 'Hello'\n",
    "- 'Hello'\n",
    "- 'lo, world!'\n",
    "7. The values of the following expressions are:\n",
    "- 'HELLO'\n",
    "- True\n",
    "- 'hello'\n",
    "8. The values of the following expressions are:\n",
    "- ['Remember,', 'remember,', 'the', 'fifth', 'of', 'July.']\n",
    "- 'There-can-only-one.'\n",
    "9. The methods for right-justifying, left-justifying, and centering a string are:\n",
    "- rjust(): right-justifies the string within a field of specified width\n",
    "- ljust(): left-justifies the string within a field of specified width\n",
    "- center(): centers the string within a field of specified width\n",
    "10. The best way to remove whitespace characters from the start or end of a string is to use the strip() method. This method removes all whitespace characters (including spaces, tabs, and newlines) from the beginning and end of the string. If you only want to remove whitespace from one end of the string, you can use the lstrip() or rstrip() method."
   ]
  }
 ],
 "metadata": {
  "kernelspec": {
   "display_name": "Python 3 (ipykernel)",
   "language": "python",
   "name": "python3"
  },
  "language_info": {
   "codemirror_mode": {
    "name": "ipython",
    "version": 3
   },
   "file_extension": ".py",
   "mimetype": "text/x-python",
   "name": "python",
   "nbconvert_exporter": "python",
   "pygments_lexer": "ipython3",
   "version": "3.9.12"
  }
 },
 "nbformat": 4,
 "nbformat_minor": 5
}
