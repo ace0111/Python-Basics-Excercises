{
 "cells": [
  {
   "cell_type": "markdown",
   "id": "768e8ced",
   "metadata": {},
   "source": [
    "Q: In the below elements which of them are values or an expression? eg:- values can be\n",
    "integer or string and expressions will be mathematical operators.\n",
    "*\n",
    "'hello'\n",
    "-87.8\n",
    "-\n",
    "/\n",
    "+\n",
    "6"
   ]
  },
  {
   "cell_type": "markdown",
   "id": "0365baa5",
   "metadata": {},
   "source": [
    "* : expression\n",
    "'hello' : values\n",
    "-87.8 : values\n",
    "- : expression\n",
    "/ : expression\n",
    "+ : expression\n",
    "6 : values"
   ]
  },
  {
   "cell_type": "markdown",
   "id": "f6a84f50",
   "metadata": {},
   "source": [
    "Q:What is the difference between string and variable?"
   ]
  },
  {
   "cell_type": "markdown",
   "id": "d6c25484",
   "metadata": {},
   "source": [
    "a string is a sequence of characters enclosed in quotes, either single quotes (') or double quotes (\"). A variable, on the other hand, is a named reference to a value that can change over time."
   ]
  },
  {
   "cell_type": "markdown",
   "id": "3dc0da27",
   "metadata": {},
   "source": [
    "Q: Describe three different data types."
   ]
  },
  {
   "cell_type": "code",
   "execution_count": null,
   "id": "22d61923",
   "metadata": {},
   "outputs": [],
   "source": [
    "Python has several built-in data types. Here are three of the most common ones:\n",
    "\n",
    "1.Integer: Integers are whole numbers, positive or negative, without a fractional part. They can be represented using the int data type in Python. For example, 3, -5, and 0 are integers.\n",
    "\n",
    "2.String: A string is a sequence of characters. It can be represented using the str data type in Python. Strings are enclosed in quotes, either single quotes (') or double quotes (\"). For example, 'Hello', \"world\", and '123' are all strings.\n",
    "\n",
    "3.List: A list is a collection of values, which can be of different data types, enclosed in square brackets [] and separated by commas. Lists are represented using the list data type in Python. For example, [1, 2, 3], ['apple', 'banana', 'cherry'], and [1, 'apple', True] are all lists."
   ]
  },
  {
   "cell_type": "code",
   "execution_count": null,
   "id": "e5e03730",
   "metadata": {},
   "outputs": [],
   "source": [
    "Q:What is an expression made up of? What do all expressions do?"
   ]
  },
  {
   "cell_type": "code",
   "execution_count": null,
   "id": "86a56d4d",
   "metadata": {},
   "outputs": [],
   "source": [
    "In Python, an expression is a combination of values, variables, operators, and function calls that produces a new value.\n",
    "\n",
    "Expressions can be very simple, like 3 + 4, or they can be more complex, like 2 * (5 + 3) / 4. They can involve arithmetic operations, comparison operators, logical operators, and more.\n",
    "\n",
    "All expressions in Python have a value. When you run an expression, Python evaluates it and returns the result. For example, if you run the expression 3 + 4, Python will evaluate it and return the value 7.\n",
    "\n",
    "Expressions are used extensively in Python programs. They can be used to assign values to variables, make decisions in conditional statements, and control the flow of execution in loops.\n",
    "\n",
    "Overall, expressions are an important building block in Python programming, and understanding how they work is essential for writing effective and efficient code."
   ]
  },
  {
   "cell_type": "code",
   "execution_count": null,
   "id": "c2c8389e",
   "metadata": {},
   "outputs": [],
   "source": [
    "Q: This assignment statements, like spam = 10. What is the difference between an\n",
    "expression and a statement?"
   ]
  },
  {
   "cell_type": "code",
   "execution_count": null,
   "id": "12ca7355",
   "metadata": {},
   "outputs": [],
   "source": [
    "An assignment statement, such as spam = 10, is a type of statement. It assigns the value 10 to the variable spam. In this statement, 10 is an expression, since it produces a value. The expression spam = 10 is also a statement, since it performs the action of assigning a value to a variable."
   ]
  },
  {
   "cell_type": "raw",
   "id": "0774c276",
   "metadata": {},
   "source": [
    "Q: After running the following code, what does the variable bacon contain?\n",
    "bacon = 22\n",
    "bacon + 1"
   ]
  },
  {
   "cell_type": "code",
   "execution_count": null,
   "id": "db19dab2",
   "metadata": {},
   "outputs": [],
   "source": [
    "The variable bacon will still contain the value 22.\n",
    "\n",
    "This is because the second line of code (bacon + 1) is an expression that evaluates to 23, but it does not actually change the value of the bacon variable."
   ]
  },
  {
   "cell_type": "markdown",
   "id": "f71512b3",
   "metadata": {},
   "source": [
    "Q: What should the values of the following two terms be?\n",
    "'spam' + 'spamspam'\n",
    "'spam'*3"
   ]
  },
  {
   "cell_type": "code",
   "execution_count": null,
   "id": "87ccbed9",
   "metadata": {},
   "outputs": [],
   "source": [
    "'spam' + 'spamspam': This expression concatenates two strings, 'spam' and 'spamspam', to produce the string 'spamspamspam'.\n",
    "'spam'*3: This expression multiplies the string 'spam' by 3, which produces the string 'spamspamspam'"
   ]
  },
  {
   "cell_type": "code",
   "execution_count": null,
   "id": "4c0f7385",
   "metadata": {},
   "outputs": [],
   "source": [
    "Q: Why is eggs a valid variable name while 100 is invalid?"
   ]
  },
  {
   "cell_type": "code",
   "execution_count": null,
   "id": "e842a506",
   "metadata": {},
   "outputs": [],
   "source": [
    "Variable names must start with a letter (a-z or A-Z) or an underscore (_).\n",
    "After the first character, variable names can also contain numbers (0-9), but cannot consist solely of a number.\n",
    "Variable names are case sensitive, meaning that spam and Spam are different variables.\n",
    "Variable names cannot be the same as a reserved keyword in Python, such as if, for, while, and, or, etc.\n",
    "Based on these rules, eggs is a valid variable name because it starts with a letter and does not contain any reserved keywords.\n",
    "\n",
    "On the other hand, 100 is an invalid variable name because it starts with a number. Variable names cannot start with a number in Python, although they can contain numbers after the first character."
   ]
  },
  {
   "cell_type": "code",
   "execution_count": null,
   "id": "28d59153",
   "metadata": {},
   "outputs": [],
   "source": [
    "Q: What three functions can be used to get the integer, floating-point number, or string\n",
    "version of a value?"
   ]
  },
  {
   "cell_type": "code",
   "execution_count": null,
   "id": "cfeb5d07",
   "metadata": {},
   "outputs": [],
   "source": [
    "In Python, you can use the following three functions to convert a value to an integer, floating-point number, or string:\n",
    "\n",
    "int(): This function converts a value to an integer. For example, int('10') would return the integer 10.\n",
    "\n",
    "float(): This function converts a value to a floating-point number. For example, float('3.14') would return the float 3.14.\n",
    "\n",
    "str(): This function converts a value to a string. For example, str(42) would return the string '42'."
   ]
  },
  {
   "cell_type": "code",
   "execution_count": null,
   "id": "7ad83bd4",
   "metadata": {},
   "outputs": [],
   "source": [
    "Q: Why does this expression cause an error? How can you fix it?\n",
    "'I have eaten' + 99 + 'burritos'"
   ]
  },
  {
   "cell_type": "code",
   "execution_count": null,
   "id": "55017de1",
   "metadata": {},
   "outputs": [],
   "source": [
    "This expression causes an error because it is attempting to concatenate a string ('I have eaten') with an integer (99) and another string ('burritos') without first converting the integer to a string."
   ]
  }
 ],
 "metadata": {
  "kernelspec": {
   "display_name": "Python 3 (ipykernel)",
   "language": "python",
   "name": "python3"
  },
  "language_info": {
   "codemirror_mode": {
    "name": "ipython",
    "version": 3
   },
   "file_extension": ".py",
   "mimetype": "text/x-python",
   "name": "python",
   "nbconvert_exporter": "python",
   "pygments_lexer": "ipython3",
   "version": "3.9.12"
  }
 },
 "nbformat": 4,
 "nbformat_minor": 5
}
