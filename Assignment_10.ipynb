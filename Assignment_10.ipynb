{
 "cells": [
  {
   "cell_type": "code",
   "execution_count": null,
   "id": "79190a9f",
   "metadata": {},
   "outputs": [],
   "source": [
    "1. How do you distinguish between shutil.copy() and shutil.copytree()?\n",
    "2. What function is used to rename files??\n",
    "3. What is the difference between the delete functions in the send2trash and shutil modules?\n",
    "4.ZipFile objects have a close() method just like File objects’ close() method. What ZipFile method is\n",
    "equivalent to File objects’ open() method?\n",
    "5. Create a programme that searches a folder tree for files with a certain file extension (such as .pdf\n",
    "or .jpg). Copy these files from whatever location they are in to a new folder."
   ]
  },
  {
   "cell_type": "markdown",
   "id": "78d749e4",
   "metadata": {},
   "source": [
    "1. The shutil.copy() function is used to copy a single file from the source to the destination while shutil.copytree() function is used to copy an entire directory and its contents from the source to the destination.\n",
    "2. The os.rename() function is used to rename files.\n",
    "3. The delete functions in the send2trash and shutil modules differ in the way they handle file deletion. The send2trash module sends the file to the system trash or recycle bin while the shutil module permanently deletes the file.\n",
    "4. The equivalent ZipFile method to File objects' open() method is the ZipFile() method, which is used to open a ZIP archive file.\n",
    "5. Here is an example program in Python that searches a folder tree for files with a certain file extension and copies them to a new folder:\n",
    "\n",
    "```python\n",
    "import os\n",
    "import shutil\n",
    "\n",
    "def copy_files(source_dir, target_dir, extension):\n",
    "    for foldername, subfolders, filenames in os.walk(source_dir):\n",
    "        for filename in filenames:\n",
    "            if filename.endswith(extension):\n",
    "                source_file = os.path.join(foldername, filename)\n",
    "                target_file = os.path.join(target_dir, filename)\n",
    "                shutil.copy(source_file, target_file)\n",
    "\n",
    "# Example usage: Copy all PDF files in the 'Documents' folder to a new folder 'PDFs'\n",
    "source_dir = 'C:/Users/username/Documents'\n",
    "target_dir = 'C:/Users/username/PDFs'\n",
    "extension = '.pdf'\n",
    "copy_files(source_dir, target_dir, extension)\n",
    "```"
   ]
  }
 ],
 "metadata": {
  "kernelspec": {
   "display_name": "Python 3 (ipykernel)",
   "language": "python",
   "name": "python3"
  },
  "language_info": {
   "codemirror_mode": {
    "name": "ipython",
    "version": 3
   },
   "file_extension": ".py",
   "mimetype": "text/x-python",
   "name": "python",
   "nbconvert_exporter": "python",
   "pygments_lexer": "ipython3",
   "version": "3.9.12"
  }
 },
 "nbformat": 4,
 "nbformat_minor": 5
}
