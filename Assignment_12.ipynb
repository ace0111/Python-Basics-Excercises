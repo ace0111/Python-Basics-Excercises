{
 "cells": [
  {
   "cell_type": "code",
   "execution_count": null,
   "id": "9680f6db",
   "metadata": {},
   "outputs": [],
   "source": [
    "1. In what modes should the PdfFileReader() and PdfFileWriter() File objects will be opened?\n",
    "2. From a PdfFileReader object, how do you get a Page object for page 5?\n",
    "3. What PdfFileReader variable stores the number of pages in the PDF document?\n",
    "4. If a PdfFileReader object’s PDF is encrypted with the password swordfish, what must you do\n",
    "before you can obtain Page objects from it?\n",
    "5. What methods do you use to rotate a page?\n",
    "6. What is the difference between a Run object and a Paragraph object?\n",
    "7. How do you obtain a list of Paragraph objects for a Document object that’s stored in a variable\n",
    "named doc?\n",
    "8. What type of object has bold, underline, italic, strike, and outline variables?\n",
    "9. What is the difference between False, True, and None for the bold variable?\n",
    "10. How do you create a Document object for a new Word document?\n",
    "11. How do you add a paragraph with the text 'Hello, there!' to a Document object stored in a\n",
    "variable named doc?\n",
    "12. What integers represent the levels of headings available in Word documents?"
   ]
  },
  {
   "cell_type": "markdown",
   "id": "2d2bf521",
   "metadata": {},
   "source": [
    "1. The PdfFileReader() and PdfFileWriter() File objects should be opened in binary mode, with the 'rb' and 'wb' mode arguments respectively.\n",
    "2. To get a Page object for page 5 from a PdfFileReader object, you can use the `getPage()` method and pass in the index of the page (which starts at 0). For example:\n",
    "\n",
    "   ```\n",
    "   page5 = pdf_reader.getPage(4)  # get Page object for page 5 (index 4)\n",
    "   ```\n",
    "\n",
    "3. The PdfFileReader variable that stores the number of pages in the PDF document is `numPages`.\n",
    "4. Before obtaining Page objects from an encrypted PDF using a PdfFileReader object, you must first decrypt it by calling the `decrypt()` method and passing in the password as a string argument. For example:\n",
    "\n",
    "   ```\n",
    "   pdf_reader.decrypt('swordfish')  # decrypt the PDF with password 'swordfish'\n",
    "   ```\n",
    "\n",
    "5. To rotate a page in a PDF document, you can use the `rotateClockwise()` or `rotateCounterClockwise()` methods of the Page object. For example:\n",
    "\n",
    "   ```\n",
    "   page.rotateClockwise(90)  # rotate page 90 degrees clockwise\n",
    "   ```\n",
    "   \n",
    "6. A Paragraph object represents a single paragraph of text in a Word document, while a Run object represents a contiguous run of text within a paragraph with a single style.\n",
    "7. To obtain a list of Paragraph objects for a Document object stored in a variable named `doc`, you can use the `paragraphs` attribute of the Document object. For example:\n",
    "\n",
    "   ```\n",
    "   paragraphs = doc.paragraphs  # get a list of Paragraph objects\n",
    "   ```\n",
    "   \n",
    "8. The `Font` object in the `docx` module has the `bold`, `underline`, `italic`, `strike`, and `outline` variables.\n",
    "9. `True` indicates that the formatting is turned on for the bold property, `False` indicates that it is turned off, and `None` indicates that the property is not explicitly set and should use the default value.\n",
    "10. To create a new Word document, you can use the `Document()` function provided by the `docx` module. For example:\n",
    "\n",
    "    ```\n",
    "    from docx import Document\n",
    "    doc = Document()  # create a new Word document\n",
    "    ```\n",
    "    \n",
    "11. To add a paragraph with the text 'Hello, there!' to a Document object stored in a variable named `doc`, you can use the `add_paragraph()` method and pass in the text as a string argument. For example:\n",
    "\n",
    "    ```\n",
    "    doc.add_paragraph('Hello, there!')  # add a new paragraph to the document\n",
    "    ```\n",
    "    \n",
    "12. The levels of headings available in Word documents are represented by integers ranging from 0 to 9, where 0 is the title style and 1-9 represent headings of decreasing importance. For example, heading level 1 is represented by the integer 1, heading level 2 is represented by the integer 2, and so on."
   ]
  }
 ],
 "metadata": {
  "kernelspec": {
   "display_name": "Python 3 (ipykernel)",
   "language": "python",
   "name": "python3"
  },
  "language_info": {
   "codemirror_mode": {
    "name": "ipython",
    "version": 3
   },
   "file_extension": ".py",
   "mimetype": "text/x-python",
   "name": "python",
   "nbconvert_exporter": "python",
   "pygments_lexer": "ipython3",
   "version": "3.9.12"
  }
 },
 "nbformat": 4,
 "nbformat_minor": 5
}
