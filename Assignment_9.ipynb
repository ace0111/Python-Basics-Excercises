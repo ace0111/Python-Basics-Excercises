{
 "cells": [
  {
   "cell_type": "code",
   "execution_count": null,
   "id": "2284f84b",
   "metadata": {},
   "outputs": [],
   "source": [
    "1. To what does a relative path refer?\n",
    "2. What does an absolute path start with your operating system?\n",
    "3. What do the functions os.getcwd() and os.chdir() do?\n",
    "4. What are the . and .. folders?\n",
    "5. In C:\\bacon\\eggs\\spam.txt, which part is the dir name, and which part is the base name?\n",
    "6. What are the three “mode” arguments that can be passed to the open() function?\n",
    "7. What happens if an existing file is opened in write mode?\n",
    "8. How do you tell the difference between read() and readlines()?\n",
    "9. What data structure does a shelf value resemble?"
   ]
  },
  {
   "cell_type": "markdown",
   "id": "69af5ccf",
   "metadata": {},
   "source": [
    "1. A relative path refers to the path of a file or directory relative to the current working directory.\n",
    "\n",
    "2. An absolute path starts with the root directory of the operating system, such as / on Unix-based systems or C:\\ on Windows.\n",
    "\n",
    "3. The function os.getcwd() returns the current working directory, while os.chdir() changes the current working directory to the specified directory.\n",
    "\n",
    "4. The . folder refers to the current directory, while the .. folder refers to the parent directory.\n",
    "\n",
    "5. In C:\\bacon\\eggs\\spam.txt, \"C:\\bacon\\eggs\" is the dir name, and \"spam.txt\" is the base name.\n",
    "\n",
    "6. The three \"mode\" arguments that can be passed to the open() function are:\n",
    "- \"r\" for reading (default)\n",
    "- \"w\" for writing (truncates the file if it exists)\n",
    "- \"a\" for appending (creates the file if it does not exist)\n",
    "\n",
    "7. If an existing file is opened in write mode, its contents will be truncated and replaced with the new data being written to it.\n",
    "\n",
    "8. The read() method reads the entire contents of a file and returns it as a string, while the readlines() method reads the entire contents of a file and returns them as a list of strings, where each string represents a line in the file.\n",
    "\n",
    "9. A shelf value resembles a dictionary data structure, where the keys and values are both strings. However, unlike a dictionary, a shelf value is stored in a file on disk and can persist between sessions."
   ]
  }
 ],
 "metadata": {
  "kernelspec": {
   "display_name": "Python 3 (ipykernel)",
   "language": "python",
   "name": "python3"
  },
  "language_info": {
   "codemirror_mode": {
    "name": "ipython",
    "version": 3
   },
   "file_extension": ".py",
   "mimetype": "text/x-python",
   "name": "python",
   "nbconvert_exporter": "python",
   "pygments_lexer": "ipython3",
   "version": "3.9.12"
  }
 },
 "nbformat": 4,
 "nbformat_minor": 5
}
